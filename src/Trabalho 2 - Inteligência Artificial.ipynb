{
 "cells": [
  {
   "cell_type": "markdown",
   "metadata": {},
   "source": [
    "## Importação das bibliotecas"
   ]
  },
  {
   "cell_type": "code",
   "execution_count": 1,
   "metadata": {},
   "outputs": [],
   "source": [
    "import numpy as np\n",
    "import matplotlib.pyplot as plt\n",
    "import os\n",
    "%matplotlib inline"
   ]
  },
  {
   "cell_type": "markdown",
   "metadata": {},
   "source": [
    "## Alterando parâmetros default da matplotlib"
   ]
  },
  {
   "cell_type": "code",
   "execution_count": 2,
   "metadata": {},
   "outputs": [],
   "source": [
    "plt.rcParams['figure.figsize'] = (10, 7) #(width,height)\n",
    "plt.rcParams['axes.grid'] = True\n",
    "plt.rcParams['text.usetex'] = True"
   ]
  },
  {
   "cell_type": "markdown",
   "metadata": {},
   "source": [
    "## Função que calcula a regressão linear utilizando matrizes"
   ]
  },
  {
   "cell_type": "code",
   "execution_count": 3,
   "metadata": {},
   "outputs": [],
   "source": [
    "def linear_regression(num_it, alpha, theta):\n",
    "    err = np.zeros(num_it)\n",
    "    for i in range(num_it):\n",
    "        h = np.dot(X,theta)\n",
    "        e = h-y\n",
    "        J = (np.dot(e.T,e)/(2*m))\n",
    "        err[i] = J\n",
    "        theta = theta - ((alpha/m)*np.dot(X.T,e))\n",
    "    return err, theta"
   ]
  },
  {
   "cell_type": "markdown",
   "metadata": {},
   "source": [
    "## Definição das variáveis e criação do diretório das imagens"
   ]
  },
  {
   "cell_type": "code",
   "execution_count": 4,
   "metadata": {},
   "outputs": [],
   "source": [
    "if not os.path.exists(os.path.join('..','imgs')):\n",
    "    os.makedirs(os.path.join('..','imgs'))\n",
    "x = np.loadtxt('../inputs/entradas_x.txt')\n",
    "y = np.loadtxt('../inputs/saidas_y.txt')\n",
    "m = len(x)\n",
    "x = x.reshape(m,1)\n",
    "y = y.reshape(m,1)\n",
    "\n",
    "X = np.ones((len(x),2))\n",
    "X[:,-1:] = x\n",
    "initial_theta = np.array([0,0]).reshape(2,1)\n",
    "\n",
    "NUM_IT = 100"
   ]
  }
 ],
 "metadata": {
  "kernelspec": {
   "display_name": "Python 3",
   "language": "python",
   "name": "python3"
  },
  "language_info": {
   "codemirror_mode": {
    "name": "ipython",
    "version": 3
   },
   "file_extension": ".py",
   "mimetype": "text/x-python",
   "name": "python",
   "nbconvert_exporter": "python",
   "pygments_lexer": "ipython3",
   "version": "3.6.8"
  }
 },
 "nbformat": 4,
 "nbformat_minor": 4
}
